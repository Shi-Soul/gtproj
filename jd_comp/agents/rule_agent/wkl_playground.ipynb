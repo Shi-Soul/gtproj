{
 "cells": [
  {
   "cell_type": "code",
   "execution_count": 28,
   "metadata": {},
   "outputs": [
    {
     "name": "stdout",
     "output_type": "stream",
     "text": [
      "(90.136, 6.723857821221387)\n",
      "(108.26399999999998, 16.316945915213424)\n",
      "(74.132, 14.797517224183252)\n"
     ]
    }
   ],
   "source": [
    "policy_sampler = [85.34, 78.39, 95.08, 90.02, 96.54, 87.74, 94.61, 96.95, 96.92, 79.77]\n",
    "ub = [111.42, 85.66, 117.77, 119.85, 78.30, 123.08, 110.55, 126.23, 119.87, 89.91]\n",
    "wo_ps = [59.25, 83.43, 88.35, 96.90, 96.50, 66.11, 58.67, 58.37, 65.54, 68.20]\n",
    "\n",
    "\n",
    "import numpy as np\n",
    "\n",
    "def calculate_mean_and_variance(data):\n",
    "    # 计算均值\n",
    "    mean = sum(data) / len(data)\n",
    "    \n",
    "    # 计算方差\n",
    "    variance = sum((x - mean) ** 2 for x in data) / len(data)\n",
    "    \n",
    "    return mean, np.sqrt(variance)\n",
    "\n",
    "\n",
    "print(calculate_mean_and_variance(policy_sampler))\n",
    "print(calculate_mean_and_variance(ub))\n",
    "print(calculate_mean_and_variance(wo_ps))"
   ]
  },
  {
   "cell_type": "code",
   "execution_count": 4,
   "metadata": {},
   "outputs": [],
   "source": [
    "import numpy as np\n",
    "from scipy.signal import convolve2d\n",
    "\n",
    "GLOBAL_MAP = np.array([\n",
    "    [0, 0, 0, 0, 0, 0, 0, 0, 0, 0, 0, 0, 0, 0, 0, 0, 0, 0, 0, 0, 0, 0, 0, 0, 0, 0, 0],\n",
    "    [0, 0, 0, 0, 0, 0, 0, 0, 0, 0, 0, 0, 0, 0, 0, 0, 0, 0, 0, 0, 0, 0, 0, 0, 0, 0, 0],\n",
    "    [0, 0, 1, 1, 1, 1, 1, 1, 1, 1, 1, 1, 1, 1, 1, 1, 1, 1, 1, 1, 1, 1, 1, 1, 1, 0, 0],\n",
    "    [0, 0, 1, 0, 0, 0, 0, 0, 0, 0, 0, 0, 0, 0, 0, 0, 0, 0, 0, 0, 0, 0, 0, 0, 1, 0, 0],\n",
    "    [0, 0, 1, 0, 0, 0, 1, 1, 1, 0, 1, 0, 0, 1, 0, 0, 1, 0, 1, 1, 0, 0, 0, 0, 1, 0, 0],\n",
    "    [0, 0, 1, 0, 0, 0, 0, 1, 0, 0, 0, 0, 0, 1, 0, 0, 0, 0, 0, 1, 0, 0, 0, 0, 1, 0, 0],\n",
    "    [0, 0, 1, 0, 0, 0, 1, 1, 0, 0, 0, 0, 0, 1, 0, 0, 0, 0, 0, 1, 1, 0, 0, 0, 1, 0, 0],\n",
    "    [0, 0, 1, 0, 0, 0, 0, 0, 0, 0, 0, 0, 0, 0, 0, 0, 0, 0, 0, 0, 0, 0, 0, 0, 1, 0, 0],\n",
    "    [0, 0, 1, 0, 0, 0, 0, 0, 0, 0, 0, 0, 0, 0, 0, 0, 0, 0, 0, 0, 0, 0, 0, 0, 1, 0, 0],\n",
    "    [0, 0, 1, 0, 0, 1, 1, 0, 0, 1, 1, 0, 0, 0, 0, 1, 1, 0, 0, 1, 1, 1, 0, 0, 1, 0, 0],\n",
    "    [0, 0, 1, 0, 0, 0, 0, 0, 0, 0, 0, 0, 0, 0, 0, 0, 0, 0, 0, 0, 0, 0, 0, 0, 1, 0, 0],\n",
    "    [0, 0, 1, 0, 0, 0, 0, 0, 0, 0, 0, 0, 0, 1, 0, 0, 0, 0, 0, 0, 0, 0, 0, 0, 1, 0, 0],\n",
    "    [0, 0, 1, 0, 0, 0, 0, 1, 0, 0, 0, 0, 0, 1, 0, 0, 0, 0, 0, 1, 0, 0, 0, 0, 1, 0, 0],\n",
    "    [0, 0, 1, 0, 0, 0, 0, 1, 0, 0, 0, 0, 0, 1, 0, 0, 0, 0, 0, 1, 1, 0, 0, 0, 1, 0, 0],\n",
    "    [0, 0, 1, 0, 0, 1, 1, 1, 1, 0, 1, 0, 0, 1, 0, 0, 1, 0, 1, 1, 1, 0, 0, 0, 1, 0, 0],\n",
    "    [0, 0, 1, 0, 0, 0, 0, 0, 0, 0, 0, 0, 0, 0, 0, 0, 0, 0, 0, 0, 0, 0, 0, 0, 1, 0, 0],\n",
    "    [0, 0, 1, 1, 1, 1, 1, 1, 1, 1, 1, 1, 1, 1, 1, 1, 1, 1, 1, 1, 1, 1, 1, 1, 1, 0, 0],\n",
    "    [0, 0, 0, 0, 0, 0, 0, 0, 0, 0, 0, 0, 0, 0, 0, 0, 0, 0, 0, 0, 0, 0, 0, 0, 0, 0, 0],\n",
    "    [0, 0, 0, 0, 0, 0, 0, 0, 0, 0, 0, 0, 0, 0, 0, 0, 0, 0, 0, 0, 0, 0, 0, 0, 0, 0, 0],\n",
    "])\n",
    "\n",
    "def heuristic(a, b):\n",
    "    # Manhattan distance on a square grid\n",
    "    return abs(b[0] - a[0]) + abs(b[1] - a[1])\n",
    "\n",
    "class Memory:\n",
    "    def __init__(self):\n",
    "        self.global_img = 0\n",
    "        self.map_memo = []\n",
    "        self.local_position = None\n",
    "        self.local_direction = None\n",
    "        self.explore_step = None\n",
    "        self.position_memo = [] # to remember the last matches for localization\n",
    "        self.apath = None # cached path for path planning towards centers\n",
    "        self.betray = True\n",
    "        self.betray_info = [] # 0 for not betray, 1 for betray\n",
    "    \n",
    "    def betray_update(self): # How to do this?\n",
    "        self.betray_info = ...\n",
    "        self.betray = True\n",
    "        \n",
    "    def reset(self):\n",
    "        self.map_memo = []\n",
    "        self.local_position = None\n",
    "        self.local_direction = None\n",
    "        self.explore_step = None\n",
    "        self.position_memo = []\n",
    "        self.apath = None\n",
    "        self.betray_update()\n",
    "\n",
    "memory = Memory()\n",
    "memory.local_direction = 'down'\n",
    "memory.local_position = (11, 7)\n",
    "\n",
    "# grid_info = [\n",
    "#     ['WALL', 'EMPTY', 'EMPTY', 'EMPTY', 'EMPTY'],\n",
    "#     ['WALL', 'EMPTY', 'EMPTY', 'RED', 'BLUE'],\n",
    "#     ['WALL', 'EMPTY', 'WALL', 'BLUE', 'BLUE'],\n",
    "#     ['WALL', 'EMPTY', 'SELF', 'BLUE', 'BLUE'],\n",
    "#     ['WALL', 'EMPTY', 'WALL', 'EMPTY', 'EMPTY'],\n",
    "# ]\n",
    "\n",
    "grid_info = [['EMPTY', 'WALL', 'WALL', 'WALL', 'WALL'], ['RED', 'EMPTY', 'WALL', 'EMPTY', 'EMPTY'], ['RED', 'EMPTY', 'WALL', 'EMPTY', 'EMPTY'], ['RED', 'EMPTY', 'SELF', 'EMPTY', 'EMPTY'], ['EMPTY', 'EMPTY', 'EMPTY', 'EMPTY', 'EMPTY']]"
   ]
  },
  {
   "cell_type": "code",
   "execution_count": 8,
   "metadata": {},
   "outputs": [
    {
     "name": "stdout",
     "output_type": "stream",
     "text": [
      "[0 2]\n"
     ]
    },
    {
     "data": {
      "text/plain": [
       "(11, 5)"
      ]
     },
     "execution_count": 8,
     "metadata": {},
     "output_type": "execute_result"
    }
   ],
   "source": [
    "def nearest_card(grid_info, color):\n",
    "    card_pos = []\n",
    "    arow, acol = memory.local_position\n",
    "    row, col = len(grid_info), len(grid_info[0])\n",
    "    for i in range(row):\n",
    "        for j in range(col):\n",
    "            if grid_info[i][j] == color:\n",
    "                card_pos.append((i, j))\n",
    "\n",
    "    near_card = None\n",
    "    min_dist = 1000\n",
    "    for card in card_pos:\n",
    "        dist = heuristic((3, 2), card) # 3, 2 is the agent relative position\n",
    "        if dist < min_dist:\n",
    "            min_dist = dist\n",
    "            near_card = card\n",
    "    r_card = np.array((3, 2)) - np.array(near_card)\n",
    "\n",
    "    if memory.local_direction == 'left':\n",
    "        r_card = np.array([r_card[1], -r_card[0]])\n",
    "    elif memory.local_direction == 'down':\n",
    "        print(r_card)\n",
    "        r_card = np.array([-r_card[0], -r_card[1]])\n",
    "    elif memory.local_direction == 'right':\n",
    "        r_card = np.array([-r_card[1], r_card[0]])\n",
    "    \n",
    "    arow, acol = memory.local_position\n",
    "    return (arow + r_card[0], acol + r_card[1]) # global position of the card\n",
    "    \n",
    "\n",
    "def add_card_as_obstacle(grid_info, color):\n",
    "    card_pos = []\n",
    "    color_map = GLOBAL_MAP.copy()\n",
    "    arow, acol = memory.local_position\n",
    "    row, col = len(grid_info), len(grid_info[0])\n",
    "    for i in range(row):\n",
    "        for j in range(col):\n",
    "            if grid_info[i][j] == color:\n",
    "                card_pos.append((i, j))\n",
    "    for pos in card_pos:\n",
    "        rpos = np.array((3, 2)) - np.array(pos)\n",
    "        if memory.local_direction == 'left':\n",
    "            rpos = np.array([rpos[1], -rpos[0]])\n",
    "        elif memory.local_direction == 'down':\n",
    "            rpos = np.array([-rpos[0], -rpos[1]])\n",
    "        elif memory.local_direction == 'right':\n",
    "            rpos = np.array([-rpos[1], rpos[0]])\n",
    "        \n",
    "        color_map[arow + rpos[0], acol + rpos[1]] = 1\n",
    "    return color_map\n",
    "    \n",
    "add_card_as_obstacle(grid_info, 'BLUE')[2:7, 8:13]\n",
    "nearest_card(grid_info, 'RED')\n"
   ]
  },
  {
   "cell_type": "code",
   "execution_count": 10,
   "metadata": {},
   "outputs": [
    {
     "name": "stdout",
     "output_type": "stream",
     "text": [
      "(True, None, '')\n"
     ]
    }
   ],
   "source": [
    "import numpy as np\n",
    "from scipy.signal import convolve2d\n",
    "\n",
    "GLOBAL_MAP = np.array([\n",
    "    [0, 0, 0, 0, 0, 0, 0, 0, 0, 0, 0, 0, 0, 0, 0, 0, 0, 0, 0, 0, 0, 0, 0, 0, 0, 0, 0],\n",
    "    [0, 0, 0, 0, 0, 0, 0, 0, 0, 0, 0, 0, 0, 0, 0, 0, 0, 0, 0, 0, 0, 0, 0, 0, 0, 0, 0],\n",
    "    [0, 0, 1, 1, 1, 1, 1, 1, 1, 1, 1, 1, 1, 1, 1, 1, 1, 1, 1, 1, 1, 1, 1, 1, 1, 0, 0],\n",
    "    [0, 0, 1, 0, 0, 0, 0, 0, 0, 0, 0, 0, 0, 0, 0, 0, 0, 0, 0, 0, 0, 0, 0, 0, 1, 0, 0],\n",
    "    [0, 0, 1, 0, 0, 0, 1, 1, 1, 0, 1, 0, 0, 1, 0, 0, 1, 0, 1, 1, 0, 0, 0, 0, 1, 0, 0],\n",
    "    [0, 0, 1, 0, 0, 0, 0, 1, 0, 0, 0, 0, 0, 1, 0, 0, 0, 0, 0, 1, 0, 0, 0, 0, 1, 0, 0],\n",
    "    [0, 0, 1, 0, 0, 0, 1, 1, 0, 0, 0, 0, 0, 1, 0, 0, 0, 0, 0, 1, 1, 0, 0, 0, 1, 0, 0],\n",
    "    [0, 0, 1, 0, 0, 0, 0, 0, 0, 0, 0, 0, 0, 0, 0, 0, 0, 0, 0, 0, 0, 0, 0, 0, 1, 0, 0],\n",
    "    [0, 0, 1, 0, 0, 0, 0, 0, 0, 0, 0, 0, 0, 0, 0, 0, 0, 0, 0, 0, 0, 0, 0, 0, 1, 0, 0],\n",
    "    [0, 0, 1, 0, 0, 1, 1, 0, 0, 1, 1, 0, 0, 0, 0, 1, 1, 0, 0, 1, 1, 1, 0, 0, 1, 0, 0],\n",
    "    [0, 0, 1, 0, 0, 0, 0, 0, 0, 0, 0, 0, 0, 0, 0, 0, 0, 0, 0, 0, 0, 0, 0, 0, 1, 0, 0],\n",
    "    [0, 0, 1, 0, 0, 0, 0, 0, 0, 0, 0, 0, 0, 1, 0, 0, 0, 0, 0, 0, 0, 0, 0, 0, 1, 0, 0],\n",
    "    [0, 0, 1, 0, 0, 0, 0, 1, 0, 0, 0, 0, 0, 1, 0, 0, 0, 0, 0, 1, 0, 0, 0, 0, 1, 0, 0],\n",
    "    [0, 0, 1, 0, 0, 0, 0, 1, 0, 0, 0, 0, 0, 1, 0, 0, 0, 0, 0, 1, 1, 0, 0, 0, 1, 0, 0],\n",
    "    [0, 0, 1, 0, 0, 1, 1, 1, 1, 0, 1, 0, 0, 1, 0, 0, 1, 0, 1, 1, 1, 0, 0, 0, 1, 0, 0],\n",
    "    [0, 0, 1, 0, 0, 0, 0, 0, 0, 0, 0, 0, 0, 0, 0, 0, 0, 0, 0, 0, 0, 0, 0, 0, 1, 0, 0],\n",
    "    [0, 0, 1, 1, 1, 1, 1, 1, 1, 1, 1, 1, 1, 1, 1, 1, 1, 1, 1, 1, 1, 1, 1, 1, 1, 0, 0],\n",
    "    [0, 0, 0, 0, 0, 0, 0, 0, 0, 0, 0, 0, 0, 0, 0, 0, 0, 0, 0, 0, 0, 0, 0, 0, 0, 0, 0],\n",
    "    [0, 0, 0, 0, 0, 0, 0, 0, 0, 0, 0, 0, 0, 0, 0, 0, 0, 0, 0, 0, 0, 0, 0, 0, 0, 0, 0],\n",
    "])\n",
    "\n",
    "local_map = np.array([[0, 0, 0, 0, 1],\n",
    "       [0, 0, 0, 0, 1],\n",
    "       [1, 0, 1, 0, 1],\n",
    "       [0, 0, 0, 0, 1],\n",
    "       [0, 0, 0, 0, 1]])\n",
    "\n",
    "# local_map_next = np.array([[0, 0, 0, 0, 0],\n",
    "#        [1, 1, 1, 1, 1],\n",
    "#        [0, 0, 0, 0, 0],\n",
    "#        [0, 0, 0, 0, 0],\n",
    "#        [0, 0, 0, 0, 1]])\n",
    "\n",
    "# local_map_third = np.array([[1, 1, 1, 1, 1],\n",
    "#        [0, 0, 0, 0, 0],\n",
    "#        [0, 0, 0, 0, 0],\n",
    "#        [0, 0, 0, 0, 1],\n",
    "#        [0, 1, 0, 0, 1]])\n",
    "\n",
    "\n",
    "def find_matches(global_map, local_map, last_matches=None):\n",
    "    adject = [(3, 2), (2, 3), (1, 2), (2, 1)]\n",
    "    matches = []\n",
    "    global_map_height, global_map_width = global_map.shape\n",
    "\n",
    "    for rotation in range(4):\n",
    "        rotated_map = np.rot90(local_map, k=rotation)\n",
    "        rotated_map_height, rotated_map_width = rotated_map.shape\n",
    "        \n",
    "        match_list = []\n",
    "        for row in range(global_map_height - rotated_map_height + 1):\n",
    "            for col in range(global_map_width - rotated_map_width + 1):\n",
    "                sub_map = global_map[row:row + rotated_map_height, col:col + rotated_map_width]\n",
    "                if np.array_equal(sub_map, rotated_map):\n",
    "                    center_row_adjust, center_col_adjust = adject[rotation]\n",
    "                    match = (row + center_row_adjust, col + center_col_adjust)\n",
    "                    if min(match) < 3 or match[0] > 15 or match[1] > 23:\n",
    "                        continue\n",
    "                    if last_matches is not None:\n",
    "                        for last_match in last_matches[rotation]:\n",
    "                            if np.sum(np.abs(np.array(match) - np.array(last_match))) == 1:\n",
    "                                match_list.append(match)\n",
    "                                break\n",
    "                    else:\n",
    "                        match_list.append(match)\n",
    "        matches.append(match_list)\n",
    "\n",
    "    return matches # up left down right\n",
    "\n",
    "def locolization(matchs):\n",
    "    directions = ['up', 'left', 'down', 'right']\n",
    "    total = 0\n",
    "    direction = ''\n",
    "    position = None\n",
    "    for i in range(4):\n",
    "        total +=len(matchs[i])\n",
    "        if total > 1:\n",
    "            return False, None, ''\n",
    "        if len(matchs[i]) == 1:\n",
    "            position = matchs[i][0]\n",
    "            direction = directions[i]\n",
    "    return True, position, direction\n",
    "\n",
    "# Example usage\n",
    "first_matches = find_matches(GLOBAL_MAP, local_map)\n",
    "# second_matches = find_matches(GLOBAL_MAP, local_map_next, first_matches)\n",
    "# third_matches = find_matches(GLOBAL_MAP, local_map_third, second_matches)\n",
    "# first_matches, second_matches, third_matches\n",
    "print(locolization(first_matches))\n",
    "# print(locolization(second_matches))\n",
    "# print(locolization(third_matches))"
   ]
  },
  {
   "cell_type": "code",
   "execution_count": 11,
   "metadata": {},
   "outputs": [
    {
     "data": {
      "text/plain": [
       "array([[1, 1, 1, 1, 1],\n",
       "       [0, 0, 0, 0, 0],\n",
       "       [1, 0, 1, 0, 0],\n",
       "       [0, 0, 0, 0, 0],\n",
       "       [0, 0, 0, 0, 0]])"
      ]
     },
     "execution_count": 11,
     "metadata": {},
     "output_type": "execute_result"
    }
   ],
   "source": [
    "import numpy as np\n",
    "\n",
    "last_map = np.array([[1, 1, 1, 1, 1],\n",
    "       [0, 0, 0, 0, 0],\n",
    "       [1, 0, 1, 0, 0],\n",
    "       [0, 0, 0, 0, 0],\n",
    "       [0, 0, 0, 0, 0]])\n",
    "\n",
    "curr_map = np.array([[0, 0, 1, 0, 1],\n",
    "       [0, 0, 0, 0, 1],\n",
    "       [0, 0, 1, 0, 1],\n",
    "       [0, 0, 0, 0, 1],\n",
    "       [0, 0, 0, 0, 1]])\n",
    "\n",
    "np.rot90(curr_map, k=1)"
   ]
  },
  {
   "cell_type": "code",
   "execution_count": 12,
   "metadata": {},
   "outputs": [
    {
     "name": "stdout",
     "output_type": "stream",
     "text": [
      "[[0 0 0 0 0]\n",
      " [0 0 0 0 0]\n",
      " [0 0 0 1 0]\n",
      " [0 0 0 1 1]\n",
      " [1 0 1 1 1]] [[0. 0. 0. 0. 0.]\n",
      " [0. 0. 0. 0. 0.]\n",
      " [0. 0. 0. 0. 1.]\n",
      " [0. 0. 0. 0. 1.]\n",
      " [0. 1. 0. 1. 1.]]\n"
     ]
    },
    {
     "data": {
      "text/plain": [
       "False"
      ]
     },
     "execution_count": 12,
     "metadata": {},
     "output_type": "execute_result"
    }
   ],
   "source": [
    "grid_info = [['EMPTY', 'EMPTY', 'WALL', 'WALL', 'WALL'], ['EMPTY', 'EMPTY', 'EMPTY', 'EMPTY', 'WALL'], ['EMPTY', 'EMPTY', 'BLUE', 'EMPTY', 'EMPTY'], ['EMPTY', 'EMPTY', 'SELF', 'BLUE', 'WALL'], ['EMPTY', 'EMPTY', 'EMPTY', 'EMPTY', 'EMPTY']]\n",
    "\n",
    "def info2mask(info):\n",
    "    mask = np.zeros((5, 5))\n",
    "    for i in range(5):\n",
    "        for j in range(5):\n",
    "            if info[i][j] == 'WALL':\n",
    "                mask[i, j] = 1\n",
    "    return mask\n",
    "\n",
    "class Memory:\n",
    "    pass\n",
    "memory = Memory()\n",
    "memory.local_position = (12, 17)\n",
    "memory.local_direction = 'right'\n",
    "\n",
    "def check_location_correct(grid_info):\n",
    "    global memory\n",
    "    if memory.local_position is None:\n",
    "        return True\n",
    "    \n",
    "    grid_info_mask = info2mask(grid_info)\n",
    "    ax, ay = memory.local_position\n",
    "    if memory.local_direction == 'up':\n",
    "        global_submap = GLOBAL_MAP[ax-3:ax+2, ay-2:ay+3]\n",
    "    elif memory.local_direction == 'left':\n",
    "        global_submap = GLOBAL_MAP[ax-2:ax+3, ay-3:ay+2]\n",
    "        grid_info_mask = np.rot90(grid_info_mask, k=1)\n",
    "    elif memory.local_direction == 'down':\n",
    "        global_submap = GLOBAL_MAP[ax-1:ax+4, ay-2:ay+3]\n",
    "        grid_info_mask = np.rot90(grid_info_mask, k=2)\n",
    "    elif memory.local_direction == 'right':\n",
    "        global_submap = GLOBAL_MAP[ax-2:ax+3, ay-1:ay+4]\n",
    "        grid_info_mask = np.rot90(grid_info_mask, k=3)\n",
    "        \n",
    "    print(global_submap, grid_info_mask)\n",
    "    return np.array_equal(global_submap, grid_info_mask)\n",
    "\n",
    "check_location_correct(grid_info)"
   ]
  },
  {
   "cell_type": "code",
   "execution_count": 12,
   "metadata": {},
   "outputs": [
    {
     "name": "stdout",
     "output_type": "stream",
     "text": [
      "[]\n"
     ]
    }
   ],
   "source": [
    "import numpy as np\n",
    "import heapq\n",
    "\n",
    "def heuristic(a, b):\n",
    "    # Manhattan distance on a square grid\n",
    "    return abs(b[0] - a[0]) + abs(b[1] - a[1])\n",
    "\n",
    "def a_star_search(start, goal, grid):\n",
    "    neighbors = [(0,1), (1,0), (0,-1), (-1,0)]  # Move right, down, left, up\n",
    "    close_set = set()\n",
    "    came_from = {}\n",
    "    gscore = {start: 0}\n",
    "    fscore = {start: heuristic(start, goal)}\n",
    "    oheap = []\n",
    "\n",
    "    heapq.heappush(oheap, (fscore[start], start))\n",
    "    \n",
    "    while oheap:\n",
    "        current = heapq.heappop(oheap)[1]\n",
    "\n",
    "        if current == goal:\n",
    "            data = []\n",
    "            while current in came_from:\n",
    "                data.append(current)\n",
    "                current = came_from[current]\n",
    "            return data[::-1]\n",
    "\n",
    "        close_set.add(current)\n",
    "        for i, j in neighbors:\n",
    "            neighbor = current[0] + i, current[1] + j            \n",
    "            tentative_g_score = gscore[current] + heuristic(current, neighbor)\n",
    "            if 0 <= neighbor[0] < grid.shape[0]:\n",
    "                if 0 <= neighbor[1] < grid.shape[1]:                \n",
    "                    if grid[neighbor[0]][neighbor[1]] == 1:\n",
    "                        continue\n",
    "                else:\n",
    "                    # grid bounds exceeded\n",
    "                    continue\n",
    "            else:\n",
    "                # grid bounds exceeded\n",
    "                continue\n",
    "\n",
    "            if neighbor in close_set and tentative_g_score >= gscore.get(neighbor, 0):\n",
    "                continue\n",
    "\n",
    "            if  tentative_g_score < gscore.get(neighbor, 0) or neighbor not in [i[1]for i in oheap]:\n",
    "                came_from[neighbor] = current\n",
    "                gscore[neighbor] = tentative_g_score\n",
    "                fscore[neighbor] = tentative_g_score + heuristic(neighbor, goal)\n",
    "                heapq.heappush(oheap, (fscore[neighbor], neighbor))\n",
    "                \n",
    "    return False\n",
    "\n",
    "# Example usage\n",
    "start_point = (2, 3)  # Starting point (y, x)\n",
    "goal_point = (2, 3)  # Goal point (y, x)\n",
    "path = a_star_search(start_point, goal_point, GLOBAL_MAP)\n",
    "print(path)\n"
   ]
  },
  {
   "cell_type": "code",
   "execution_count": 17,
   "metadata": {},
   "outputs": [
    {
     "name": "stdout",
     "output_type": "stream",
     "text": [
      "Video created successfully\n"
     ]
    }
   ],
   "source": [
    "import cv2\n",
    "import os\n",
    "import numpy as np\n",
    "\n",
    "def images_to_video(input_folder='../../../img_logs', output_video='tmp.mp4', fps=3):\n",
    "    # Get all files in the directory and filter for images\n",
    "    files = [f for f in os.listdir(input_folder) if f.endswith('.png') and 'grid' not in f]\n",
    "    # Sort files by name\n",
    "    files.sort(key=lambda x: int(x.split('.')[0]))\n",
    "\n",
    "    # Get path of first image to obtain frame size\n",
    "    frame = cv2.imread(os.path.join(input_folder, files[0]))\n",
    "    height, width, layers = frame.shape\n",
    "\n",
    "    # Define the codec and create VideoWriter object\n",
    "    fourcc = cv2.VideoWriter_fourcc(*'mp4v')  # You can change 'mp4v' to 'XVID' if you prefer\n",
    "    video = cv2.VideoWriter(output_video, fourcc, fps, (width, height))\n",
    "\n",
    "    # Read each file, and write it to the video\n",
    "    for file in files:\n",
    "        img = cv2.imread(os.path.join(input_folder, file))\n",
    "        video.write(img)\n",
    "\n",
    "    # Release the video writer object\n",
    "    video.release()\n",
    "    print(\"Video created successfully\")\n",
    "\n",
    "# Specify the folder containing images, the output video path, and desired fps\n",
    "images_to_video()  # Change 'path_to_images' and fps as needed\n"
   ]
  },
  {
   "cell_type": "code",
   "execution_count": 13,
   "metadata": {},
   "outputs": [
    {
     "data": {
      "text/plain": [
       "(1, 0)"
      ]
     },
     "execution_count": 13,
     "metadata": {},
     "output_type": "execute_result"
    }
   ],
   "source": [
    "\n",
    "RED_CARD_COLOR = (128, 33, 53)\n",
    "BLUE_CARD_COLOR = (33, 128, 109)\n",
    "EMPTY_SPACE = (0, 0, 0)\n",
    "WALL = (114, 114, 114)\n",
    "AGENT_VIEW_SIZE = 5\n",
    "AGENT_SELF = (20, 40, 81)\n",
    "AGENT_OTHER = (80, 45, 27)\n",
    "DIRECTIONS = {\n",
    "    \"up\": (-1, 0),\n",
    "    \"down\": (1, 0),\n",
    "    \"left\": (0, -1),\n",
    "    \"right\": (0, 1)\n",
    "}\n",
    "NAMED_ITEMS = ['EMPTY', 'WALL', 'RED', 'BLUE', 'SELF', 'OTHER'] # EMPTY 0, WALL 1\n",
    "NAMED_ITEMS_IDX = {name: i for i, name in enumerate(NAMED_ITEMS)}\n",
    "ACTIONS = ['NOOP', 'FORWARD', 'BACKWARD', 'STEP_LEFT', 'STEP_RIGHT', 'TURN_LEFT', 'TURN_RIGHT', 'INTERACT']\n",
    "ACTION_TO_IDX = {action: i for i, action in enumerate(ACTIONS)}\n",
    "\n",
    "def action2movement(action, direction):\n",
    "    redirect = ['up', 'left', 'down', 'right']\n",
    "    if direction == 'left':\n",
    "        redirect = ['left', 'down', 'right', 'up']\n",
    "    if direction == 'down':\n",
    "        redirect = ['down', 'right', 'up', 'left']\n",
    "    if direction == 'right':\n",
    "        redirect = ['right', 'up', 'left', 'down']\n",
    "    act_id = {'FORWARD': redirect[0], 'STEP_LEFT': redirect[1], 'BACKWARD': redirect[2], 'STEP_RIGHT': redirect[2]}\n",
    "    return DIRECTIONS[act_id[action]]\n",
    "\n",
    "action2movement('STEP_LEFT', 'left')\n",
    "\n",
    "# def movement2action(movement, direction):\n",
    "#     # input is (di, dj), output is text\n",
    "#     redirect = ['FORWARD', 'STEP_LEFT', 'BACKWARD', 'STEP_RIGHT']\n",
    "#     if direction == 'left':\n",
    "#         redirect = ['STEP_RIGHT', 'FORWARD', 'STEP_LEFT', 'BACKWARD']\n",
    "#     if direction == 'down':\n",
    "#         redirect = ['BACKWARD', 'STEP_RIGHT', 'FORWARD', 'STEP_LEFT']\n",
    "#     if direction == 'right':\n",
    "#         redirect = ['STEP_LEFT', 'BACKWARD', 'STEP_RIGHT', 'FORWARD']\n",
    "#     move_id = {DIRECTIONS['up']: redirect[0], DIRECTIONS['left']: redirect[1], DIRECTIONS['down']: redirect[2], DIRECTIONS['right']: redirect[2]}\n",
    "#     return move_id[movement]\n",
    "\n",
    "# movement2action((-1, 0), 'left')"
   ]
  },
  {
   "cell_type": "code",
   "execution_count": null,
   "metadata": {},
   "outputs": [],
   "source": [
    "from matplotlib import pyplot as plt\n",
    "rm = np.array([3, 0, 5, 1]).reshape(2, 2)\n",
    "\n",
    "x=0.9\n",
    "y=0.1\n",
    "\n",
    "v = []\n",
    "for y in range(1000):\n",
    "    y = y/1000\n",
    "    a = np.array([x, 1-x]).reshape(1, 2)\n",
    "    b= np.array([y, 1-y]).reshape(2, 1)   \n",
    "    v.append(a@rm@b)\n",
    "plt.plot(range(1000), np.array(v).reshape(-1))"
   ]
  },
  {
   "cell_type": "code",
   "execution_count": 342,
   "metadata": {},
   "outputs": [
    {
     "name": "stdout",
     "output_type": "stream",
     "text": [
      "[[30.]] [[30.]]\n",
      "[[32.]] [[27.]]\n",
      "[[34.]] [[24.]]\n",
      "[[36.]] [[21.]]\n",
      "[[38.]] [[18.]]\n",
      "[[9.5]] [[12.]]\n",
      "[[9.6]] [[11.6]]\n",
      "[[9.7]] [[11.2]]\n",
      "[[9.8]] [[10.8]]\n",
      "[[9.9]] [[10.4]]\n"
     ]
    }
   ],
   "source": [
    "rm = np.array([3, 0, 5, 1]).reshape(2, 2)\n",
    "\n",
    "for t in [0, 0.1, 0.2, 0.3, 0.4, 0.5, 0.6, 0.7, 0.8, 0.9]: \n",
    "    s1 = 0\n",
    "    s2 = 0\n",
    "    lasty = 1.0\n",
    "    lastx = 1.0\n",
    "    for _ in range(10):\n",
    "        x = max(0.0, lasty - t)\n",
    "        # y = max(0.0, lastx - t)\n",
    "        y= 1 if x >0.5 else 0\n",
    "        lasty = y\n",
    "        lastx = x\n",
    "        a = np.array([x, 1-x]).reshape(1, 2)\n",
    "        b= np.array([y, 1-y]).reshape(2, 1)   \n",
    "        s1 += a@rm@b\n",
    "        s2 += a@rm.T@b\n",
    "    print(s1, s2)"
   ]
  },
  {
   "cell_type": "code",
   "execution_count": 263,
   "metadata": {},
   "outputs": [
    {
     "data": {
      "text/plain": [
       "(array([[5]]), array([[0]]))"
      ]
     },
     "execution_count": 263,
     "metadata": {},
     "output_type": "execute_result"
    }
   ],
   "source": [
    "rm = np.array([3, 0, 5, 1]).reshape(2, 2)\n",
    "\n",
    "x=0\n",
    "y=1\n",
    "a = np.array([x, 1-x]).reshape(1, 2)\n",
    "b= np.array([y, 1-y]).reshape(2, 1)   \n",
    "a@rm@b, a@rm.T@b"
   ]
  },
  {
   "cell_type": "code",
   "execution_count": 28,
   "metadata": {},
   "outputs": [
    {
     "data": {
      "text/plain": [
       "0.8888684210526316"
      ]
     },
     "execution_count": 28,
     "metadata": {},
     "output_type": "execute_result"
    }
   ],
   "source": [
    "def oppo_coor(coor, rw):\n",
    "    return (rw+coor-1)/(4-coor)\n",
    "\n",
    "oppo_coor(0.2, 4.1777)    "
   ]
  },
  {
   "cell_type": "code",
   "execution_count": 29,
   "metadata": {},
   "outputs": [
    {
     "data": {
      "image/png": "[encoded data removed]",
      "text/plain": [
       "<Figure size 500x500 with 1 Axes>"
      ]
     },
     "metadata": {},
     "output_type": "display_data"
    },
    {
     "data": {
      "image/png": "[encoded data removed]",
      "text/plain": [
       "<Figure size 500x500 with 1 Axes>"
      ]
     },
     "metadata": {},
     "output_type": "display_data"
    }
   ],
   "source": [
    "import numpy as np\n",
    "from scipy.stats import norm\n",
    "import matplotlib.pyplot as plt\n",
    "\n",
    "def oppo_coor(coor, rw):\n",
    "    # coor:(0, 1) my coor prob; rw: reward\n",
    "    # return opponent coor prob\n",
    "    return (rw + coor - 1) / (4 - coor)\n",
    "\n",
    "def fit_gaussian(data):\n",
    "    wdata = []\n",
    "    for t, d in enumerate(data):\n",
    "        wdata.extend([d] * np.floor(100 / (len(data) - t)).astype(int))\n",
    "    mean, std_dev = norm.fit(wdata)\n",
    "    return mean, std_dev\n",
    "\n",
    "def sample_gaussian(mean, std_dev, num_samples):\n",
    "    samples = np.random.normal(mean, std_dev, num_samples)\n",
    "    return samples\n",
    "\n",
    "# 1/5 1/4 1/3 2/5 1/2 3/5 2/3 3/4 4/5\n",
    "def get_policy(sample):\n",
    "    if sample < 1/5:\n",
    "        target = (1, 4)\n",
    "    elif sample < 1/4:\n",
    "        target = (1, 3)\n",
    "    elif sample < 1/3:\n",
    "        target = (1, 2)\n",
    "    elif sample < 2/5:\n",
    "        target = (2, 3)\n",
    "    elif sample < 1/2:\n",
    "        target = (1, 1)\n",
    "    elif sample < 3/5:\n",
    "        target = (3, 2)\n",
    "    elif sample < 2/3:\n",
    "        target = (2, 1)\n",
    "    elif sample < 3/4:\n",
    "        target = (3, 1)\n",
    "    else:\n",
    "        target = (4, 1)\n",
    "    return np.array(target)\n",
    "\n",
    "def plot_gaussian_and_histogram(mean, std_dev, samples):\n",
    "    x = np.linspace(mean - 4*std_dev, mean + 4*std_dev, 1000)\n",
    "    y = norm.pdf(x, mean, std_dev)\n",
    "\n",
    "    plt.figure(figsize=(5, 5))\n",
    "\n",
    "    # 画出高斯分布\n",
    "    plt.plot(x, y, label=f'Estimated policy\\nmean={mean:.2f}, std_dev={std_dev:.2f}')\n",
    "\n",
    "    # 画出样本的柱状图\n",
    "    plt.hist(samples, bins=30, density=True, alpha=0.6, color='g', label='Focal player coor samples')\n",
    "\n",
    "    plt.xlabel('Value')\n",
    "    plt.ylabel('Density')\n",
    "    plt.title('Scenarios of grim reciprocator, k=6')\n",
    "    # plt.title('Scenario of cooperative player backgroud player')\n",
    "    plt.legend()\n",
    "    plt.show()\n",
    "\n",
    "# 计算高斯分布的均值和标准差\n",
    "mean, std_dev = fit_gaussian([0.88, 0.9, 0.88, 0.9])\n",
    "\n",
    "# 从高斯分布中采样\n",
    "num_samples = 1000\n",
    "samples = sample_gaussian(mean, std_dev/2, num_samples)\n",
    "best_coors = samples - 2 * std_dev\n",
    "\n",
    "# 画出高斯分布和柱状图\n",
    "plot_gaussian_and_histogram(mean, std_dev, best_coors)\n",
    "\n",
    "\n",
    "\n",
    "# 计算高斯分布的均值和标准差\n",
    "mean, std_dev = fit_gaussian([0.9, 0.9, 0.88, 0.88, 0.9, 0.2])\n",
    "\n",
    "# 从高斯分布中采样\n",
    "num_samples = 1000\n",
    "samples = sample_gaussian(mean, std_dev/2, num_samples)\n",
    "best_coors = samples - 2 * std_dev\n",
    "\n",
    "# 画出高斯分布和柱状图\n",
    "plot_gaussian_and_histogram(mean, std_dev, best_coors)\n",
    "\n"
   ]
  }
 ],
 "metadata": {
  "kernelspec": {
   "display_name": "smpc",
   "language": "python",
   "name": "python3"
  },
  "language_info": {
   "codemirror_mode": {
    "name": "ipython",
    "version": 3
   },
   "file_extension": ".py",
   "mimetype": "text/x-python",
   "name": "python",
   "nbconvert_exporter": "python",
   "pygments_lexer": "ipython3",
   "version": "3.10.14"
  }
 },
 "nbformat": 4,
 "nbformat_minor": 2
}
